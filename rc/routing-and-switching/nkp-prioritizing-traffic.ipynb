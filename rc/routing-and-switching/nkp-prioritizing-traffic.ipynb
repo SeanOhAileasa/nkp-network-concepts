{
 "cells": [
  {
   "cell_type": "markdown",
   "id": "616b0550",
   "metadata": {},
   "source": [
    "***\n",
    "< [Home](https://github.com/SeanOhAileasa) | [README](https://github.com/SeanOhAileasa/nkp-network-concepts/blob/main/README.md) >\n",
    "\n",
    "## CompTIA Network+ - Course Material 2022\n",
    "### Topic: ``Prioritizing Traffic``\n",
    "***"
   ]
  },
  {
   "cell_type": "markdown",
   "id": "b82b07fb",
   "metadata": {},
   "source": [
    "Course material for the ``CompTIA Network+`` module of the ``ICT Associate Apprenticeship (Cybersecurity)`` programme."
   ]
  },
  {
   "cell_type": "markdown",
   "id": "e7228f57",
   "metadata": {},
   "source": [
    "<a id=\"top\"></a>\n",
    "***\n",
    "## Table of Contents\n",
    "***"
   ]
  },
  {
   "cell_type": "markdown",
   "id": "aedf6e82",
   "metadata": {},
   "source": [
    "<a id=\"topAdvancedNetworking\"></a>\n",
    "### [Prioritizing Traffic](#networkConcepts)"
   ]
  },
  {
   "cell_type": "markdown",
   "id": "c30dd313",
   "metadata": {},
   "source": [
    "- Networks Use Different Devices [Different Applications] <br/>\n",
    "\t- Mission Critical Applications [Perform Major Functions of a Particular Job] <br/>\n",
    "\t- Voice over IP (VoIP) <br/>\n",
    "\t- Streaming Video / Audio <br/>\n",
    "- Different Network Requirements <br/>\n",
    "\t- Voice Communication requires Real-time Data Flows <br/>\n",
    "\t- Watching Streaming Video usually has a Buffer Associated <br/>\n",
    "\t- Database Application usually has Interactive Input <br/>\n",
    "\t\t- Expecting an Output within a Certain Ammount of Time <br/>\n",
    "- Might want to Prioritise Traffic Type on the Network <br/>\n",
    "\t- VoIP Traffic having a Priority over YouTube videos <br/>\n",
    "- Pioritisation through Packet Shaping [Traffic Shaping] <br/>\n",
    "\t- Apply Certain Bandwidth Usages (or Data Rates) to a Particular Type of Application <br/>\n",
    "\t\t- Able to set Certain Applications to have Higher Priority than Others <br/>\n",
    "\t\t\t- May be Implemented in a Firewall or a Router or a Switch <br/>\n",
    "- Quality of Service (QoS) <br/>\n",
    "\t- Setting Priorities of Different Applications <br/>\n",
    "\t\t- Prioritising Bandwidth / Traffic Rates [Application Uses] <br/>\n",
    "\t\t\t- Broad Description to Define the Process of Controlling Traffic Flows <br/>\n",
    "\t- Class of Service (CoS) <br/>\n",
    "\t\t- Configure on an OSI Layer 2 Network <br/>\n",
    "\t\t\t- Prioritisation Performed inside Ethernet Frame Header [``802.1Q`` Trunk] <br/>\n",
    "\t\t\t\t- Very Specific to Communication between Switches <br/>\n",
    "\t\t\t\t\t- Commonly performed inside of own Intranet <br/>\n",
    "\t\t\t\t\t\t- ``!=`` Common to have a Trunk Connection to ISP <br/>\n",
    "\t- QoS at OSI Layer 2 (Trunk) Confining [Implement DiffServ] <br/>\n",
    "\t\t- Differentiated Services (DiffServ) <br/>\n",
    "\t\t\t- Configure on an OSI Layer 3 Network <br/>\n",
    "\t\t\t\t- Modifying QoS Bits within the IPv4 Header <br/>\n",
    "\t\t\t\t\t- Bits Usually Set Outside of the Application <br/>\n",
    "\t\t\t\t\t\t- Device Recognises Application [Sets Bits inside Header] <br/>\n",
    "\t\t\t\t\t\t\t- Done inside Routers / Firewalls [with DiffServ capability] <br/>\n",
    "\t\t\t\t\t\t- Differentiated Services Code Points (DSCP) <br/>\n",
    "\t\t\t\t\t\t\t- Values Applied inside of IP header <br/>\n",
    "\t\t\t\t\t\t\t\t- Specific Field [DS or Differentiated Services Field] <br/>\n",
    "\t- Some Environments may take Advantage of both CoS and DiffServ <br/>"
   ]
  },
  {
   "cell_type": "markdown",
   "id": "ad849f60",
   "metadata": {},
   "source": [
    "<hr width=50%;>"
   ]
  },
  {
   "cell_type": "markdown",
   "id": "04e5e4dc",
   "metadata": {},
   "source": [
    "< [Table of Contents](#top) | [References](#references) >\n",
    "<a id=\"networkConcepts\"></a>\n",
    "***\n",
    "### Prioritizing Traffic\n",
    "***"
   ]
  },
  {
   "cell_type": "markdown",
   "id": "bf2b95e2",
   "metadata": {},
   "source": [
    "***\n",
    "## END"
   ]
  },
  {
   "cell_type": "markdown",
   "id": "e0e42d51",
   "metadata": {},
   "source": [
    "< [Table of Contents](#top) >\n",
    "<a id=\"references\"></a>\n",
    "***\n",
    "## References\n",
    "***"
   ]
  },
  {
   "cell_type": "markdown",
   "id": "aa59ac3a",
   "metadata": {},
   "source": [
    "J. \"Professor\" Messer, \"CompTIA Network+ (N10-007) Course Notes,\" [professormesser.com](https://web.archive.org/web/20220404153917/https://www.professormesser.com/network-plus/n10-007/n10-007-training-course/), March 2019."
   ]
  },
  {
   "cell_type": "markdown",
   "id": "b33c372a",
   "metadata": {},
   "source": [
    "***\n",
    "## END"
   ]
  },
  {
   "cell_type": "markdown",
   "id": "e5961b4d",
   "metadata": {},
   "source": [
    "< [Table of Contents](#top) | [References](#references) >\n",
    "<a id=\"appendix\"></a>\n",
    "***\n",
    "## Appendix\n",
    "***"
   ]
  },
  {
   "cell_type": "markdown",
   "id": "00d82a82",
   "metadata": {},
   "source": [
    "***\n",
    "## END"
   ]
  },
  {
   "cell_type": "code",
   "execution_count": 1,
   "id": "b8ceeb5b",
   "metadata": {},
   "outputs": [
    {
     "data": {
      "text/html": [
       "<style>.container { width:100% !important; }</style>"
      ],
      "text/plain": [
       "<IPython.core.display.HTML object>"
      ]
     },
     "metadata": {},
     "output_type": "display_data"
    }
   ],
   "source": [
    "from IPython.core.display import display,HTML\n",
    "display(HTML(\"<style>.container { width:100% !important; }</style>\"))"
   ]
  },
  {
   "cell_type": "markdown",
   "id": "899c1783",
   "metadata": {},
   "source": [
    "# END JUPYTER NOTEBOOK"
   ]
  }
 ],
 "metadata": {
  "kernelspec": {
   "display_name": "Python 3",
   "language": "python",
   "name": "python3"
  },
  "language_info": {
   "codemirror_mode": {
    "name": "ipython",
    "version": 3
   },
   "file_extension": ".py",
   "mimetype": "text/x-python",
   "name": "python",
   "nbconvert_exporter": "python",
   "pygments_lexer": "ipython3",
   "version": "3.8.8"
  }
 },
 "nbformat": 4,
 "nbformat_minor": 5
}
