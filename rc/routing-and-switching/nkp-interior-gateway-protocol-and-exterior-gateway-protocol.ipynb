{
 "cells": [
  {
   "cell_type": "markdown",
   "id": "616b0550",
   "metadata": {},
   "source": [
    "***\n",
    "< [Home](https://github.com/SeanOhAileasa) | [README](https://github.com/SeanOhAileasa/nkp-network-concepts/blob/main/README.md) >\n",
    "\n",
    "## CompTIA Network+ - Course Material 2022\n",
    "### Topic: ``Interior Gateway Protocol and Exterior Gateway Protocol``\n",
    "***"
   ]
  },
  {
   "cell_type": "markdown",
   "id": "b82b07fb",
   "metadata": {},
   "source": [
    "Course material for the ``CompTIA Network+`` module of the ``ICT Associate Apprenticeship (Cybersecurity)`` programme."
   ]
  },
  {
   "cell_type": "markdown",
   "id": "e7228f57",
   "metadata": {},
   "source": [
    "<a id=\"top\"></a>\n",
    "***\n",
    "## Table of Contents\n",
    "***"
   ]
  },
  {
   "cell_type": "markdown",
   "id": "aedf6e82",
   "metadata": {},
   "source": [
    "<a id=\"topAdvancedNetworking\"></a>\n",
    "### [Interior Gateway Protocol and Exterior Gateway Protocol](#networkConcepts)"
   ]
  },
  {
   "cell_type": "markdown",
   "id": "fbf7ee02",
   "metadata": {},
   "source": [
    "- Interior Vs. Exterior <br/>\n",
    "\t- Autonomous System (AS) <br/>\n",
    "\t\t- Existing as an Independent Entity [Independent Network] <br/>\n",
    "\t\t\t- Group of IP Addresses under Common Control [IP Networks] <br/>\n",
    "\t\t- Point of Reference <br/>\n",
    "\t\t\t- Networks inside of our Control <br/>\n",
    "\t\t\t- Networks outside of our Control <br/>\n",
    "- Interior Gateway Protocol (IGP) <br/>\n",
    "\t- Within Single Automous System (AS) [Internal] <br/>\n",
    "\t\t- ``!=`` Route between AS [Outside of our Control] <br/>\n",
    "\t- IPv4 [Dynamic Routing Protocols] <br/>\n",
    "\t\t- Open Shortest Path First Version 2 (OSPFv2) <br/>\n",
    "\t\t- Routing Information Protocol Version 2 (RIPv2) <br/>\n",
    "\t\t- Cisco Networks <br/>\n",
    "\t\t\t- Enhanced Interior Gateway Routing Protocol (EIGRP) <br/>\n",
    "\t- IPv6 [Dynamic Routing Protocols] <br/>\n",
    "\t\t- Open Shortest Path First Version 3 (OSPFv3) <br/>\n",
    "\t\t- Routing Information Protocol network generation (RIPng) <br/>\n",
    "\t\t- Enhanced Interior Gateway Routing Protocol (EIGRP) for IPv6 <br/>\n",
    "- Exterior Gateway Protocol [Route Between AS] <br/>\n",
    "\t- Leverages IGP at the AS to handle Local Routing <br/>\n",
    "\t- Border Gateway Protocol (BGP) [Routing Protocol] <br/>\n",
    "\t\t- Connect to Internet <br/>\n",
    "- Interior & Exterior Routing <br/>\n",
    "\t- Autonomous System (x4) <br/>\n",
    "\t\t- Running Protocols <br/>\n",
    "\t\t\t- Routing Information Protocol (RIP) <br/>\n",
    "\t\t\t- Enhanced Interior Gateway Routing Protocol (EIGRP) <br/>\n",
    "\t\t\t- Open Shortest Path First (OSPF) <br/>\n",
    "\t\t\t- Routing Information Protocol Version 2 (RIPv2) <br/>\n",
    "\t\t- Communicate Outside AS <br/>\n",
    "\t\t\t- Using Exterior Protocol [Border Gateway Protocol (BGP)] <br/>\n",
    "\t\t\t\t- Internet Connection <br/>\n",
    "\t\t\t\t- All Device [Route from One Side to the Other]  \n",
    "\t\t\t\t![Image: Border Gateway Protocol (BGP)](https://github.com/SeanOhAileasa/SeanOhAileasa/blob/master/rc/nkp/bgp.png?raw=true) <br/>"
   ]
  },
  {
   "cell_type": "markdown",
   "id": "ad849f60",
   "metadata": {},
   "source": [
    "<hr width=50%;>"
   ]
  },
  {
   "cell_type": "markdown",
   "id": "04e5e4dc",
   "metadata": {},
   "source": [
    "< [Table of Contents](#top) | [References](#references) >\n",
    "<a id=\"networkConcepts\"></a>\n",
    "***\n",
    "### Interior Gateway Protocol and Exterior Gateway Protocol\n",
    "***"
   ]
  },
  {
   "cell_type": "markdown",
   "id": "bf2b95e2",
   "metadata": {},
   "source": [
    "***\n",
    "## END"
   ]
  },
  {
   "cell_type": "markdown",
   "id": "e0e42d51",
   "metadata": {},
   "source": [
    "< [Table of Contents](#top) >\n",
    "<a id=\"references\"></a>\n",
    "***\n",
    "## References\n",
    "***"
   ]
  },
  {
   "cell_type": "markdown",
   "id": "b7d00b9a",
   "metadata": {},
   "source": [
    "J. \"Professor\" Messer, \"CompTIA Network+ (N10-007) Course Notes,\" [professormesser.com](https://web.archive.org/web/20220404153917/https://www.professormesser.com/network-plus/n10-007/n10-007-training-course/), March 2019."
   ]
  },
  {
   "cell_type": "markdown",
   "id": "b33c372a",
   "metadata": {},
   "source": [
    "***\n",
    "## END"
   ]
  },
  {
   "cell_type": "markdown",
   "id": "e5961b4d",
   "metadata": {},
   "source": [
    "< [Table of Contents](#top) | [References](#references) >\n",
    "<a id=\"appendix\"></a>\n",
    "***\n",
    "## Appendix\n",
    "***"
   ]
  },
  {
   "cell_type": "markdown",
   "id": "00d82a82",
   "metadata": {},
   "source": [
    "***\n",
    "## END"
   ]
  },
  {
   "cell_type": "code",
   "execution_count": 1,
   "id": "b8ceeb5b",
   "metadata": {},
   "outputs": [
    {
     "data": {
      "text/html": [
       "<style>.container { width:100% !important; }</style>"
      ],
      "text/plain": [
       "<IPython.core.display.HTML object>"
      ]
     },
     "metadata": {},
     "output_type": "display_data"
    }
   ],
   "source": [
    "from IPython.core.display import display,HTML\n",
    "display(HTML(\"<style>.container { width:100% !important; }</style>\"))"
   ]
  },
  {
   "cell_type": "markdown",
   "id": "899c1783",
   "metadata": {},
   "source": [
    "# END JUPYTER NOTEBOOK"
   ]
  }
 ],
 "metadata": {
  "kernelspec": {
   "display_name": "Python 3",
   "language": "python",
   "name": "python3"
  },
  "language_info": {
   "codemirror_mode": {
    "name": "ipython",
    "version": 3
   },
   "file_extension": ".py",
   "mimetype": "text/x-python",
   "name": "python",
   "nbconvert_exporter": "python",
   "pygments_lexer": "ipython3",
   "version": "3.8.8"
  }
 },
 "nbformat": 4,
 "nbformat_minor": 5
}
