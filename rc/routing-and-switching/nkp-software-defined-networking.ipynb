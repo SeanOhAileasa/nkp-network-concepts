{
 "cells": [
  {
   "cell_type": "markdown",
   "id": "616b0550",
   "metadata": {},
   "source": [
    "***\n",
    "< [Home](https://github.com/SeanOhAileasa) | [README](https://github.com/SeanOhAileasa/nkp-network-concepts/blob/main/README.md) >\n",
    "\n",
    "## CompTIA Network+ - Course Material 2022\n",
    "### Topic: ``Software Defined Networking``\n",
    "***"
   ]
  },
  {
   "cell_type": "markdown",
   "id": "b82b07fb",
   "metadata": {},
   "source": [
    "Course material for the ``CompTIA Network+`` module of the ``ICT Associate Apprenticeship (Cybersecurity)`` programme."
   ]
  },
  {
   "cell_type": "markdown",
   "id": "e7228f57",
   "metadata": {},
   "source": [
    "<a id=\"top\"></a>\n",
    "***\n",
    "## Table of Contents\n",
    "***"
   ]
  },
  {
   "cell_type": "markdown",
   "id": "aedf6e82",
   "metadata": {},
   "source": [
    "<a id=\"topAdvancedNetworking\"></a>\n",
    "### [Software Defined Networking](#networkConcepts)"
   ]
  },
  {
   "cell_type": "markdown",
   "id": "bb2f8e83",
   "metadata": {},
   "source": [
    "- Networking Devices have x2 Functional Planes of Operation <br/>\n",
    "\t- Control Plane <br/>\n",
    "\t\t- Administration [ongoing Servicing] <br/>\n",
    "\t- Data Plane <br/>\n",
    "\t\t- Forwarding Data <br/>\n",
    "- Key Features <br/>\n",
    "\t- Directly Programmable <br/>\n",
    "\t\t- Data Plane Separate Process to the Control Plane <br/>\n",
    "\t\t\t- Make Configuration Changes <br/>\n",
    "\t\t\t- View Log Information <br/>\n",
    "\t- Agile <br/>\n",
    "\t\t- Changes made Dynamically <br/>\n",
    "\t\t\t- Part of the Network get Busy [Dynamically Changed] <br/>\n",
    "\t- Centrally Managed [Central Console] <br/>\n",
    "\t\t- No Need to Log into Multiple Places to Manage Network <br/>\n",
    "\t\t\t- Global View [Single Pane of Glass] <br/>\n",
    "\t\t\t\t- Single Screen [Control Entire Network] <br/>\n",
    "\t- Orchestration [No Human Intervention] <br/>\n",
    "\t\t- Programmatically Configured <br/>\n",
    "\t\t\t- Automatic Network Operation <br/>\n",
    "\t\t\t\t- Section of Network Congested [Resources Deployed Automatically] <br/>\n",
    "\t- Open Standards [Vendor Neutral] <br/>\n",
    "\t\t- Standard Interface to the Network <br/>\n",
    "- SDN Functionality Enabled due to Virtualised Portions of Infrastructure <br/>\n",
    "\t- Servers / Routers / Firewalls / Switches <br/>\n",
    "\t\t- Network with Physical Switch [Physical World] <br/>\n",
    "\t\t\t- Servers built to Host Virtual Environments [Physical World] <br/>\n",
    "\t\t\t\t- Top of Servers (Web Server / DB Server / Test Server) [Virtual World] <br/>\n",
    "\t\t\t\t\t- Challenge [Separate out Devices into there own VLANS] <br/>\n",
    "\t\t\t\t\t\t- Test Server Separate VLAN to Web Server / DB Server <br/>\n",
    "\t\t\t\t\t\t![Image: SDN Physical & Virtual](https://github.com/SeanOhAileasa/SeanOhAileasa/blob/master/rc/nkp/sdn-physical-virtual.png?raw=true) <br/>\n",
    "\t\t\t\t\t- Challenge [Virtual Devices moving Anywhere in Network] <br/>\n",
    "\t\t\t\t\t\t- May Need More Network Capacity [or Less Capacity] <br/>\n",
    "\t\t\t\t\t\t\t- Services Moves / Allows Access along with Server <br/>\n",
    "\t- Distributed Switching\t<br/>\n",
    "\t\t- Virtualised Networking <br/>\n",
    "\t\t\t- Group Individual Services into own VLAN] <br/>\n",
    "\t\t\t\t- Removing the Physical Segmentation <br/>\n",
    "\t\t\t\t\t- Virtual Network Distributed across all Physical Platforms <br/>\n",
    "\t\t\t\t\t- When a VM Moves then Network ``!=`` Change <br/>\n",
    "\t\t\t\t\t\t- Servers will always Connect to the Right VLAN <br/>\n",
    "\t\t\t\t- Physical Switch [Physical World] <br/>\n",
    "\t\t\t\t\t- Physical Virtualisation Platforms (Host 1 / 2 / 3) [Physical World] <br/>\n",
    "\t\t\t\t\t\t- Each running Virtual Servers [Virutual World] <br/>\n",
    "\t\t\t\t\t\t\t- Web Server <br/>\n",
    "\t\t\t\t\t\t\t- DB Server <br/>\n",
    "\t\t\t\t\t\t\t- Test Server <br/>\n",
    "\t\t\t\t\t\t- Distributed Switch <br/>\n",
    "\t\t\t\t\t\t\t- Grouping Different Resources into own VLAN\t<br/>\t\t![Image: Distibuted Switch](https://github.com/SeanOhAileasa/SeanOhAileasa/blob/master/rc/nkp/distibuted-switch.png?raw=true) <br/>"
   ]
  },
  {
   "cell_type": "markdown",
   "id": "ad849f60",
   "metadata": {},
   "source": [
    "<hr width=50%;>"
   ]
  },
  {
   "cell_type": "markdown",
   "id": "04e5e4dc",
   "metadata": {},
   "source": [
    "< [Table of Contents](#top) | [References](#references) >\n",
    "<a id=\"networkConcepts\"></a>\n",
    "***\n",
    "### Software Defined Networking\n",
    "***"
   ]
  },
  {
   "cell_type": "markdown",
   "id": "bf2b95e2",
   "metadata": {},
   "source": [
    "***\n",
    "## END"
   ]
  },
  {
   "cell_type": "markdown",
   "id": "e0e42d51",
   "metadata": {},
   "source": [
    "< [Table of Contents](#top) >\n",
    "<a id=\"references\"></a>\n",
    "***\n",
    "## References\n",
    "***"
   ]
  },
  {
   "cell_type": "markdown",
   "id": "4e3450af",
   "metadata": {},
   "source": [
    "J. \"Professor\" Messer, \"CompTIA Network+ (N10-007) Course Notes,\" [professormesser.com](https://web.archive.org/web/20220404153917/https://www.professormesser.com/network-plus/n10-007/n10-007-training-course/), March 2019."
   ]
  },
  {
   "cell_type": "markdown",
   "id": "b33c372a",
   "metadata": {},
   "source": [
    "***\n",
    "## END"
   ]
  },
  {
   "cell_type": "markdown",
   "id": "e5961b4d",
   "metadata": {},
   "source": [
    "< [Table of Contents](#top) | [References](#references) >\n",
    "<a id=\"appendix\"></a>\n",
    "***\n",
    "## Appendix\n",
    "***"
   ]
  },
  {
   "cell_type": "markdown",
   "id": "00d82a82",
   "metadata": {},
   "source": [
    "***\n",
    "## END"
   ]
  },
  {
   "cell_type": "code",
   "execution_count": 1,
   "id": "b8ceeb5b",
   "metadata": {},
   "outputs": [
    {
     "data": {
      "text/html": [
       "<style>.container { width:100% !important; }</style>"
      ],
      "text/plain": [
       "<IPython.core.display.HTML object>"
      ]
     },
     "metadata": {},
     "output_type": "display_data"
    }
   ],
   "source": [
    "from IPython.core.display import display,HTML\n",
    "display(HTML(\"<style>.container { width:100% !important; }</style>\"))"
   ]
  },
  {
   "cell_type": "markdown",
   "id": "899c1783",
   "metadata": {},
   "source": [
    "# END JUPYTER NOTEBOOK"
   ]
  }
 ],
 "metadata": {
  "kernelspec": {
   "display_name": "Python 3",
   "language": "python",
   "name": "python3"
  },
  "language_info": {
   "codemirror_mode": {
    "name": "ipython",
    "version": 3
   },
   "file_extension": ".py",
   "mimetype": "text/x-python",
   "name": "python",
   "nbconvert_exporter": "python",
   "pygments_lexer": "ipython3",
   "version": "3.8.8"
  }
 },
 "nbformat": 4,
 "nbformat_minor": 5
}
