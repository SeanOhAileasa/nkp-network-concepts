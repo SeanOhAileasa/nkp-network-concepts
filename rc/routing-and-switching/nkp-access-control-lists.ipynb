{
 "cells": [
  {
   "cell_type": "markdown",
   "id": "616b0550",
   "metadata": {},
   "source": [
    "***\n",
    "< [Home](https://github.com/SeanOhAileasa) | [README](https://github.com/SeanOhAileasa/nkp-network-concepts/blob/main/README.md) >\n",
    "\n",
    "## CompTIA Network+ - Course Material 2022\n",
    "### Topic: ``Access Control Lists``\n",
    "***"
   ]
  },
  {
   "cell_type": "markdown",
   "id": "b82b07fb",
   "metadata": {},
   "source": [
    "Course material for the ``CompTIA Network+`` module of the ``ICT Associate Apprenticeship (Cybersecurity)`` programme."
   ]
  },
  {
   "cell_type": "markdown",
   "id": "e7228f57",
   "metadata": {},
   "source": [
    "<a id=\"top\"></a>\n",
    "***\n",
    "## Table of Contents\n",
    "***"
   ]
  },
  {
   "cell_type": "markdown",
   "id": "aedf6e82",
   "metadata": {},
   "source": [
    "<a id=\"topAdvancedNetworking\"></a>\n",
    "### [Access Control Lists](#networkConcepts)"
   ]
  },
  {
   "cell_type": "markdown",
   "id": "bb2f8e83",
   "metadata": {},
   "source": [
    "- Access Control List (ACL) is a Packet Filter <br/>\n",
    "\t- Allow or Deny Traffic <br/>\n",
    "\t\t- Also used for Network Address Translation (NAT) <br/>\n",
    "\t\t\t- Determine what IP Addresses need to be Translated <br/>\n",
    "\t\t- Quality of Service (QoS) <br/>\n",
    "\t\t\t- Know Type of Traffic needing Priority <br/>\n",
    "\t- Common Configuration on Router Interface <br/>\n",
    "\t\t- Defined on the Ingress or Egress of an Interface <br/>\n",
    "\t\t\t- Traffic Incoming or Outgoing or Both <br/>\n",
    "\t- Can Evaluate on Certain Criteria [Specific] <br/>\n",
    "\t\t- Decision to Allow or Deny [Particular Packet] <br/>\n",
    "\t\t\t- Examine Source IP <br/>\n",
    "\t\t\t- Examine Destination IP <br/>\n",
    "\t\t\t- Examine TCP Port Numbers <br/>\n",
    "\t\t\t- Examine UDP Port Numbers <br/>\n",
    "\t\t\t- Examine ICMP <br/>\n",
    "\t\t- IP Address Range or TCP Ports <br/>\n",
    "\t\t\t- Traffic Flow Matches Combination <br/>\n",
    "\t\t\t\t- Deny or Permit Traffic from Router Interface <br/>\n",
    "\t- Evolved Through the Years [Different Manufacturers] <br/>\n",
    "\t\t- More Options and Features Available for Traffic Filtering <br/>\n",
    "- Rule Base inside Firewall can be considered an ACL <br/>\n",
    "\t- Allow or Disallow Traffic through the Firewall <br/>\n",
    "\t\t- Conbination of Variables [Tuple] <br/>\n",
    "\t\t\t- Groupings of Tuples [Specific ACL Rule]\n",
    "\t\t\t\t- Source IP <br/>\n",
    "\t\t\t\t- Destination IP <br/>\n",
    "\t\t\t\t- Port Number <br/>\n",
    "\t\t\t\t- Time of Day / Application etc <br/>\n",
    "\t- Firewall Logic normally Starts with the 1st Rule <br/>\n",
    "\t\t- Usually top-to-bottom <br/>\n",
    "\t\t\t- Match then Firewall ``!=`` Proceed Further down Rule Base <br/>\n",
    "\t\t\t\t- Can be very General or very Specific <br/>\n",
    "\t\t\t\t\t- Specific Rules are Usually at the Top <br/>\n",
    "- Most ACLs & Firewall Rule Bases written with Implicit Deny <br/>\n",
    "\t- Most Firewalls include a Deny at the Bottom <br/>\n",
    "\t\t- Default Deny is Implicit <br/>\n",
    "- Web Service Firewall Ruleset <br/>\n",
    "\t- First Rule <br/>\n",
    "\t\t- Rule Number [Tuple] <br/>\n",
    "\t\t\t- Remote IP [Tuple] <br/>\n",
    "\t\t\t\t- Allow All Traffic from Romote IP via Remote Port [Tuple] <br/>\n",
    "\t\t\t\t\t- Communicating to Local Port ``22`` via Local Port [Tuple] <br/>\n",
    "\t\t\t\t\t\t- Protocol [Tuple] <br/>\n",
    "\t\t\t\t\t\t\t- TCP [Port ``22`` probably SSH Traffic] <br/>\n",
    "\t\t\t\t\t\t\t\t- Action [Tuple] <br/>\n",
    "\t\t\t\t\t\t\t\t\t- Firewall set to Allow Traffic <br/>\n",
    "\t\t\t\t\t\t\t\t\t![Image: Ruleset](https://github.com/SeanOhAileasa/SeanOhAileasa/blob/master/rc/nkp/web-service-firewall-ruleset.png?raw=true) <br/>\n",
    "\t\t- No Rule Applying then Implicit Deny at Bottom <br/>\n",
    "\t\t\t- Not Matching Specific Rule Automatic Drop <br/>"
   ]
  },
  {
   "cell_type": "markdown",
   "id": "ad849f60",
   "metadata": {},
   "source": [
    "<hr width=50%;>"
   ]
  },
  {
   "cell_type": "markdown",
   "id": "04e5e4dc",
   "metadata": {},
   "source": [
    "< [Table of Contents](#top) | [References](#references) >\n",
    "<a id=\"networkConcepts\"></a>\n",
    "***\n",
    "### Access Control Lists\n",
    "***"
   ]
  },
  {
   "cell_type": "markdown",
   "id": "bf2b95e2",
   "metadata": {},
   "source": [
    "***\n",
    "## END"
   ]
  },
  {
   "cell_type": "markdown",
   "id": "e0e42d51",
   "metadata": {},
   "source": [
    "< [Table of Contents](#top) >\n",
    "<a id=\"references\"></a>\n",
    "***\n",
    "## References\n",
    "***"
   ]
  },
  {
   "cell_type": "markdown",
   "id": "4e3450af",
   "metadata": {},
   "source": [
    "J. \"Professor\" Messer, \"CompTIA Network+ (N10-007) Course Notes,\" [professormesser.com](https://web.archive.org/web/20220404153917/https://www.professormesser.com/network-plus/n10-007/n10-007-training-course/), March 2019."
   ]
  },
  {
   "cell_type": "markdown",
   "id": "b33c372a",
   "metadata": {},
   "source": [
    "***\n",
    "## END"
   ]
  },
  {
   "cell_type": "markdown",
   "id": "e5961b4d",
   "metadata": {},
   "source": [
    "< [Table of Contents](#top) | [References](#references) >\n",
    "<a id=\"appendix\"></a>\n",
    "***\n",
    "## Appendix\n",
    "***"
   ]
  },
  {
   "cell_type": "markdown",
   "id": "00d82a82",
   "metadata": {},
   "source": [
    "***\n",
    "## END"
   ]
  },
  {
   "cell_type": "code",
   "execution_count": 1,
   "id": "b8ceeb5b",
   "metadata": {},
   "outputs": [
    {
     "data": {
      "text/html": [
       "<style>.container { width:100% !important; }</style>"
      ],
      "text/plain": [
       "<IPython.core.display.HTML object>"
      ]
     },
     "metadata": {},
     "output_type": "display_data"
    }
   ],
   "source": [
    "from IPython.core.display import display,HTML\n",
    "display(HTML(\"<style>.container { width:100% !important; }</style>\"))"
   ]
  },
  {
   "cell_type": "markdown",
   "id": "899c1783",
   "metadata": {},
   "source": [
    "# END JUPYTER NOTEBOOK"
   ]
  }
 ],
 "metadata": {
  "kernelspec": {
   "display_name": "Python 3",
   "language": "python",
   "name": "python3"
  },
  "language_info": {
   "codemirror_mode": {
    "name": "ipython",
    "version": 3
   },
   "file_extension": ".py",
   "mimetype": "text/x-python",
   "name": "python",
   "nbconvert_exporter": "python",
   "pygments_lexer": "ipython3",
   "version": "3.8.8"
  }
 },
 "nbformat": 4,
 "nbformat_minor": 5
}
