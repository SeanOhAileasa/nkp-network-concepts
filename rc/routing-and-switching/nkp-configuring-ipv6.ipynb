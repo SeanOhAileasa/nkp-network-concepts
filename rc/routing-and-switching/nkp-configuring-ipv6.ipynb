{
 "cells": [
  {
   "cell_type": "markdown",
   "id": "616b0550",
   "metadata": {},
   "source": [
    "***\n",
    "< [Home](https://github.com/SeanOhAileasa) | [README](https://github.com/SeanOhAileasa/nkp-network-concepts/blob/main/README.md) >\n",
    "\n",
    "## CompTIA Network+ - Course Material 2022\n",
    "### Topic: ``Configuring IPv6``\n",
    "***"
   ]
  },
  {
   "cell_type": "markdown",
   "id": "b82b07fb",
   "metadata": {},
   "source": [
    "Course material for the ``CompTIA Network+`` module of the ``ICT Associate Apprenticeship (Cybersecurity)`` programme."
   ]
  },
  {
   "cell_type": "markdown",
   "id": "e7228f57",
   "metadata": {},
   "source": [
    "<a id=\"top\"></a>\n",
    "***\n",
    "## Table of Contents\n",
    "***"
   ]
  },
  {
   "cell_type": "markdown",
   "id": "aedf6e82",
   "metadata": {},
   "source": [
    "<a id=\"topAdvancedNetworking\"></a>\n",
    "### [Configuring IPv6](#networkConcepts)"
   ]
  },
  {
   "cell_type": "markdown",
   "id": "817a8dd2",
   "metadata": {},
   "source": [
    "- Dual-stack Routing [Common Implementation] <br/>\n",
    "\t- Dual-stack IPv4 & IPv6 [Protocols ``!=`` Talk to Each Other] <br/>\n",
    "\t\t- Run at the same Time [OSI Layer 3 Device] <br/>\n",
    "\t- IPv4 <br/>\n",
    "\t\t- Configured with IPv4 Addresses [Subnet Masks / DNS etc] <br/>\n",
    "\t\t- Maintains an IPv4 Routing Table <br/>\n",
    "\t\t- Router <br/>\n",
    "\t\t\t- Uses IPv4 Dynamic Routing Protocols <br/>\n",
    "\t- IPv6 [Same Device with Separate Configuration Area] <br/>\n",
    "\t\t- Configured with IPv6 Addresses [Subnet Masks / DNS etc] <br/>\n",
    "\t\t- Maintains a separate IPv6 Routing Table <br/>\n",
    "\t\t- Router <br/>\n",
    "\t\t\t- Uses IPv4 Dynamic Routing Protocols <br/>\t\n",
    "- ``!=`` Networks Upgraded [Parts with Support for IPv6] <br/>\n",
    "\t- Tunnel IPv4 into IPv6 [IPv6 into IPv4] <br/>\n",
    "\t\t- ``6to4`` Tunnelling <br/>\n",
    "\t\t\t- Send IPv6 over existing IPv4 Network <br/>\n",
    "\t\t\t\t- Requires Relay Routes [Both End of the Communication] <br/>\n",
    "\t\t\t\t\t- IP Protocol ``41`` [Transition Technology] <br/>\n",
    "\t\t\t\t\t\t- Identify Special Packets [Contain IPv6 Information] <br/>\n",
    "\t\t\t- ``!=`` Support for Network Address Translation (NAT) <br/>\n",
    "\t\t\t\t- May Apply to Specific Network Configurations [Transition Technology] <br/>\n",
    "\t\t- ``4in6`` Tunnelling <br/>\n",
    "\t\t\t- Existing IPv6 Network Tunnelling IPv4 Traffic <br/>\n",
    "\t- Teredo Tunnel [Windows] <br/>\n",
    "\t\t- Tunnel IPv6 through Network Address Translated (NAT) IPv4 [Common Configuration] <br/>\n",
    "\t\t\t- End-to-end IPv6 through an IPv4 Network <br/>\n",
    "\t\t\t\t- ``!=`` Configurations on IPv4 Routers <br/>\n",
    "\t\t\t\t- ``!=`` IPv6 Router Required <br/>\n",
    "\t\t\t- Temporary Workaround until IPv6 can be used Natively on Network (?) <br/>\n",
    "\t- Miredo (Open-source Teredo) [Linux / BSD Unix / MAC OS X] <br/>\n",
    "\t\t- Same Full Functionality as Teredo <br/>\n",
    "- Devices Find Devices <br/> \n",
    "\t- IPv4 Uses Broadcast <br/>\n",
    "\t\t- IPv6 Uses Multicast [over ICMPv6] <br/>\n",
    "- Neighbor Discovery Protocol (NDP) [Devices find other Devices] <br/>\n",
    "\t- Stateless Address Autoconfiguration (SLAAC) <br/>\n",
    "\t\t- Automatically Configures an IP Address without a DHCP Server <br/>\n",
    "\t- Duplicate Address Detection (DAD) <br/>\n",
    "\t\t- No Duplicate IPs <br/>\n",
    "\t- Discover Routers [ICMPv6 Adds NDP] <br/>\n",
    "\t\t- Router Solicitation (RS) <br/>\n",
    "\t\t\t- Sends IPv6 Multicast [``ff02::2``] <br/>\n",
    "\t\t\t\t- Solicitation to All IPv6 Routers <br/> \n",
    "\t\t\t\t\t- Network Routers Listen for these Multicasts <br/>\n",
    "\t\t\t\t\t\t- Router Advertisement (RA) [Unicast Frame] <br/>\n",
    "\t\t\t\t\t\t\t- Sends Advertised MAC of Local Router <br/>\n",
    "\t\t\t\t\t\t\t![Image: IPv6 NDP](https://github.com/SeanOhAileasa/SeanOhAileasa/blob/master/rc/nkp/ipv6-ndp.png?raw=true) <br/>\n",
    "\t\t\t\t\t\t\t- Occasional Send Unsolicited RA [Multicast ``ff02::1``] <br/>\n",
    "\t\t\t\t\t\t\t\t- Transfer IPv6 Address Information [to Workstation] <br/>\n",
    "\t\t\t\t\t\t\t\t\t- Prefix Value [Network] <br/>\n",
    "\t\t\t\t\t\t\t\t\t- Prefix Length [Local Subnet Mask] <br/>\n",
    "\t- IPv6 ``!=`` Address Resolution Protocol (ARP) [IPv4] <br/>\n",
    "\t\t- Neighbor Media Access Control (MAC) Discovery [Same Function as IPv4 ARP] <br/>\n",
    "\t\t\t- Neighbor Solicitation (NS) <br/>\n",
    "\t\t\t\t- Workstation Find MAC of other Workstation <br/>\n",
    "\t\t\t\t\t- Sends Multicast <br/>\n",
    "\t\t\t\t\t\t- Seek Specified MAC Address of IPv6 Address <br/>\n",
    "\t\t\t\t\t\t\t- Neighbor Advertisement (NA) [Owner of IPv6 Address] <br/>\n",
    "\t\t\t\t\t\t\t\t- Sends Back Directed Frame [Include MAC Address] <br/>\n",
    "\t\t\t\t\t\t\t\t![Image: IPv6 Discover MAC](https://github.com/SeanOhAileasa/SeanOhAileasa/blob/master/rc/nkp/ipv6-discover-mac.png?raw=true) <br/>\n",
    "\t\t\t\t- Test for Duplicate IPv6 Address <br/>\n",
    "\t\t\t\t\t- Workstation Sends out NS for Specific IPv6 Address <br/>\n",
    "\t\t\t\t\t\t- ``!=`` Response then IPv6 Address Available on Network <br/>"
   ]
  },
  {
   "cell_type": "markdown",
   "id": "ad849f60",
   "metadata": {},
   "source": [
    "<hr width=50%;>"
   ]
  },
  {
   "cell_type": "markdown",
   "id": "04e5e4dc",
   "metadata": {},
   "source": [
    "< [Table of Contents](#top) | [References](#references) >\n",
    "<a id=\"networkConcepts\"></a>\n",
    "***\n",
    "### Configuring IPv6\n",
    "***"
   ]
  },
  {
   "cell_type": "markdown",
   "id": "bf2b95e2",
   "metadata": {},
   "source": [
    "***\n",
    "## END"
   ]
  },
  {
   "cell_type": "markdown",
   "id": "e0e42d51",
   "metadata": {},
   "source": [
    "< [Table of Contents](#top) >\n",
    "<a id=\"references\"></a>\n",
    "***\n",
    "## References\n",
    "***"
   ]
  },
  {
   "cell_type": "markdown",
   "id": "64e4c549",
   "metadata": {},
   "source": [
    "J. \"Professor\" Messer, \"CompTIA Network+ (N10-007) Course Notes,\" [professormesser.com](https://web.archive.org/web/20220404153917/https://www.professormesser.com/network-plus/n10-007/n10-007-training-course/), March 2019."
   ]
  },
  {
   "cell_type": "markdown",
   "id": "b33c372a",
   "metadata": {},
   "source": [
    "***\n",
    "## END"
   ]
  },
  {
   "cell_type": "markdown",
   "id": "e5961b4d",
   "metadata": {},
   "source": [
    "< [Table of Contents](#top) | [References](#references) >\n",
    "<a id=\"appendix\"></a>\n",
    "***\n",
    "## Appendix\n",
    "***"
   ]
  },
  {
   "cell_type": "markdown",
   "id": "00d82a82",
   "metadata": {},
   "source": [
    "***\n",
    "## END"
   ]
  },
  {
   "cell_type": "code",
   "execution_count": 1,
   "id": "b8ceeb5b",
   "metadata": {},
   "outputs": [
    {
     "data": {
      "text/html": [
       "<style>.container { width:100% !important; }</style>"
      ],
      "text/plain": [
       "<IPython.core.display.HTML object>"
      ]
     },
     "metadata": {},
     "output_type": "display_data"
    }
   ],
   "source": [
    "from IPython.core.display import display,HTML\n",
    "display(HTML(\"<style>.container { width:100% !important; }</style>\"))"
   ]
  },
  {
   "cell_type": "markdown",
   "id": "899c1783",
   "metadata": {},
   "source": [
    "# END JUPYTER NOTEBOOK"
   ]
  }
 ],
 "metadata": {
  "kernelspec": {
   "display_name": "Python 3",
   "language": "python",
   "name": "python3"
  },
  "language_info": {
   "codemirror_mode": {
    "name": "ipython",
    "version": 3
   },
   "file_extension": ".py",
   "mimetype": "text/x-python",
   "name": "python",
   "nbconvert_exporter": "python",
   "pygments_lexer": "ipython3",
   "version": "3.8.8"
  }
 },
 "nbformat": 4,
 "nbformat_minor": 5
}
