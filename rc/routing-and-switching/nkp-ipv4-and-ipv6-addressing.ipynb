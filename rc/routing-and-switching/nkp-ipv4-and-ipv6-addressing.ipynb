{
 "cells": [
  {
   "cell_type": "markdown",
   "id": "616b0550",
   "metadata": {},
   "source": [
    "***\n",
    "< [Home](https://github.com/SeanOhAileasa) | [README](https://github.com/SeanOhAileasa/nkp-network-concepts/blob/main/README.md) >\n",
    "\n",
    "## CompTIA Network+ - Course Material 2022\n",
    "### Topic: ``IPv4 and IPv6 Addressing``\n",
    "***"
   ]
  },
  {
   "cell_type": "markdown",
   "id": "b82b07fb",
   "metadata": {},
   "source": [
    "Course material for the ``CompTIA Network+`` module of the ``ICT Associate Apprenticeship (Cybersecurity)`` programme."
   ]
  },
  {
   "cell_type": "markdown",
   "id": "e7228f57",
   "metadata": {},
   "source": [
    "<a id=\"top\"></a>\n",
    "***\n",
    "## Table of Contents\n",
    "***"
   ]
  },
  {
   "cell_type": "markdown",
   "id": "aedf6e82",
   "metadata": {},
   "source": [
    "<a id=\"topAdvancedNetworking\"></a>\n",
    "### [IPv4 and IPv6 Addressing](#networkConcepts)"
   ]
  },
  {
   "cell_type": "markdown",
   "id": "f32225f7",
   "metadata": {},
   "source": [
    "- TCP/IP [Network Protocol of Choice] <br/>\n",
    "\t- Devices assigned Unique IP Address <br/>\n",
    "\t\t- Combined with Subnet Mask <br/>\n",
    "\t\t\t- Local Device to Determine what IP Subnet its Lives <br/>\n",
    "\t\t\t- Not Transmitted across the Network [Local Device] <br/>\n",
    "- IP Address [``!=`` Single Address] <br/>\n",
    "\t- Combination of Network ID and Host ID <br/>\n",
    "\t\t- Subnet Mask Determines (via IP Address) the Network and Host <br/>\n",
    "\t\t\t- Just as Important as the IP Address <br/>\n",
    "\t- OSI Layer 3 Addresses <br/>\n",
    "\t\t- IPv4 (Internet Protocol version 4) <br/>\n",
    "\t\t\t- 32-bit Address <br/>\n",
    "\t\t\t![Image: IPv4 Address](https://github.com/SeanOhAileasa/SeanOhAileasa/blob/master/rc/nkp/ipv4-address.png?raw=true) <br/>\n",
    "\t\t- IPv6 (Internet Protocol version 6) <br/>\n",
    "\t\t\t- 128-bit Address [340 Undecillion] <br/>\n",
    "\t\t\t![Image: IPv4 Address](https://github.com/SeanOhAileasa/SeanOhAileasa/blob/master/rc/nkp/ipv6-address.png?raw=true) <br/>\n",
    "\t\t\t- Compression <br/>\n",
    "\t\t\t\t- Group Zeros [Abbreviated ``::`` (x1 Only)] <br/>\n",
    "\t\t\t\t- Leading Zeros Optional <br/>\n",
    "\t\t\t\t![Image: IPv4 Address](https://github.com/SeanOhAileasa/SeanOhAileasa/blob/master/rc/nkp/ipv4-address-compression.png?raw=true) <br/>"
   ]
  },
  {
   "cell_type": "markdown",
   "id": "ad849f60",
   "metadata": {},
   "source": [
    "<hr width=50%;>"
   ]
  },
  {
   "cell_type": "markdown",
   "id": "04e5e4dc",
   "metadata": {},
   "source": [
    "< [Table of Contents](#top) | [References](#references) >\n",
    "<a id=\"networkConcepts\"></a>\n",
    "***\n",
    "### IPv4 and IPv6 Addressing\n",
    "***"
   ]
  },
  {
   "cell_type": "markdown",
   "id": "bf2b95e2",
   "metadata": {},
   "source": [
    "***\n",
    "## END"
   ]
  },
  {
   "cell_type": "markdown",
   "id": "e0e42d51",
   "metadata": {},
   "source": [
    "< [Table of Contents](#top) >\n",
    "<a id=\"references\"></a>\n",
    "***\n",
    "## References\n",
    "***"
   ]
  },
  {
   "cell_type": "markdown",
   "id": "8a88f57b",
   "metadata": {},
   "source": [
    "J. \"Professor\" Messer, \"CompTIA Network+ (N10-007) Course Notes,\" [professormesser.com](https://web.archive.org/web/20220404153917/https://www.professormesser.com/network-plus/n10-007/n10-007-training-course/), March 2019."
   ]
  },
  {
   "cell_type": "markdown",
   "id": "b33c372a",
   "metadata": {},
   "source": [
    "***\n",
    "## END"
   ]
  },
  {
   "cell_type": "markdown",
   "id": "e5961b4d",
   "metadata": {},
   "source": [
    "< [Table of Contents](#top) | [References](#references) >\n",
    "<a id=\"appendix\"></a>\n",
    "***\n",
    "## Appendix\n",
    "***"
   ]
  },
  {
   "cell_type": "markdown",
   "id": "00d82a82",
   "metadata": {},
   "source": [
    "***\n",
    "## END"
   ]
  },
  {
   "cell_type": "code",
   "execution_count": 1,
   "id": "b8ceeb5b",
   "metadata": {},
   "outputs": [
    {
     "data": {
      "text/html": [
       "<style>.container { width:100% !important; }</style>"
      ],
      "text/plain": [
       "<IPython.core.display.HTML object>"
      ]
     },
     "metadata": {},
     "output_type": "display_data"
    }
   ],
   "source": [
    "from IPython.core.display import display,HTML\n",
    "display(HTML(\"<style>.container { width:100% !important; }</style>\"))"
   ]
  },
  {
   "cell_type": "markdown",
   "id": "899c1783",
   "metadata": {},
   "source": [
    "# END JUPYTER NOTEBOOK"
   ]
  }
 ],
 "metadata": {
  "kernelspec": {
   "display_name": "Python 3",
   "language": "python",
   "name": "python3"
  },
  "language_info": {
   "codemirror_mode": {
    "name": "ipython",
    "version": 3
   },
   "file_extension": ".py",
   "mimetype": "text/x-python",
   "name": "python",
   "nbconvert_exporter": "python",
   "pygments_lexer": "ipython3",
   "version": "3.8.8"
  }
 },
 "nbformat": 4,
 "nbformat_minor": 5
}
