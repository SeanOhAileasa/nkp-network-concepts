{
 "cells": [
  {
   "cell_type": "markdown",
   "id": "616b0550",
   "metadata": {},
   "source": [
    "***\n",
    "< [Home](https://github.com/SeanOhAileasa) | [README](https://github.com/SeanOhAileasa/nkp-network-concepts/blob/main/README.md) >\n",
    "\n",
    "## CompTIA Network+ - Course Material 2022\n",
    "### Topic: ``Circuit Switching and Packet Switching``\n",
    "***"
   ]
  },
  {
   "cell_type": "markdown",
   "id": "b82b07fb",
   "metadata": {},
   "source": [
    "Course material for the ``CompTIA Network+`` module of the ``ICT Associate Apprenticeship (Cybersecurity)`` programme."
   ]
  },
  {
   "cell_type": "markdown",
   "id": "e7228f57",
   "metadata": {},
   "source": [
    "<a id=\"top\"></a>\n",
    "***\n",
    "## Table of Contents\n",
    "***"
   ]
  },
  {
   "cell_type": "markdown",
   "id": "aedf6e82",
   "metadata": {},
   "source": [
    "<a id=\"topAdvancedNetworking\"></a>\n",
    "### [Circuit Switching and Packet Switching](#networkConcepts)"
   ]
  },
  {
   "cell_type": "markdown",
   "id": "bb2f8e83",
   "metadata": {},
   "source": [
    "- Circuit Switching <br/>\n",
    "\t- Circuit is Established between Endpoints before Data is Sent <br/>\n",
    "\t\t- Phone Network <br/>\n",
    "\t\t\t- Plain Old Telephone Service (POTS) <br/>\n",
    "\t\t\t- Public Switched Telephone Network (PSTN) <br/>\t\t\n",
    "\t\t\t\t- Call [Circuit Established then Talk] <br/>\n",
    "\t\t- Connection is Always There <br/> \n",
    "\t\t\t- Nobody can Use the Circuit when Idle <br/>\n",
    "\t\t\t\t- Inefficient Use of Resources <br/>\n",
    "\t\t\t- Create Circuit between x2 Remote Sites [Advantage] <br/>\n",
    "\t\t\t\t- Not Sharing Capacity [Guaranteed] <br/>\n",
    "\t\t\t\t- Network Always Aavailable [Not Waiting] <br/>\n",
    "\t\t- T1 / T3 [E1 / E3 (Outside USA)] Network <br/>\n",
    "\t\t\t- Circuit Created between Two Links [Wide Area Connections] <br/>\n",
    "\t\t\t\t- Alway Available between the Two Connections <br/>\n",
    "\t\t- Integrated Services Digital Network (ISDN) Network <br/>\n",
    "\t\t\t- ISDN Modem calls Another ISDN Modem <br/>\n",
    "\t\t\t\t- Alway Available Until the ISDN Connection is Terminated <br/>\n",
    "- Packet Switching <br/>\n",
    "\t- Data is Grouped into Packets [Sent across the Network] <br/>\n",
    "\t- Media is Usually Shared [Someone Else Can Use It when You are Not] <br/>\n",
    "\t- Supports Qualities of Service <br/>\n",
    "\t\t- Someone may have Higher Priority over Someone Else <br/>\n",
    "\t\t\t- One Connection may have More Bandwidth Allocated <br/>\n",
    "\t\t\t\t- How much Money would you like to spend? <br/>\n",
    "\t- Technologies <br/>\n",
    "\t\t-  Synchronous Optical Network (SONET) <br/>\n",
    "\t\t\t- Physical Layer Specification for Broadband Synchronous Transmission <br/>\n",
    "\t\t\t\t- Data over Long Distances of Fiber-optic Cabling [Speeds >1 Gbps] <br/>\n",
    "\t\t- Asynchronous Transfer Mode (ATM) <br/>\n",
    "\t\t\t- Switching Technique [Time Division Multiplexing (TDM)] <br/>\n",
    "\t\t\t\t- ATM Networks are Connection-oriented Networks <br/>\n",
    "\t\t- Digital Subscriber Line (DSL) <br/>\n",
    "\t\t\t- Transmit Digital Data over Telephone Lines <br/>\n",
    "\t\t- Frame Relay <br/>\n",
    "\t\t\t- Standardized WAN technology <br/>\n",
    "\t\t\t\t- Specifies the Physical and Data Link Layers of Telecom Channels <br/>\n",
    "\t\t- Multiprotocol Label Switching (MPLS) <br/>\n",
    "\t\t\t- Routing Technique <br/>\n",
    "\t\t\t\t- Traffic from One Node to the network using Labels [``!=`` Addresses] <br/>\n",
    "\t\t- Cable Modem Internet Connection <br/>\n",
    "\t\t- Satellite <br/>\n",
    "\t\t- Wireless <br/>"
   ]
  },
  {
   "cell_type": "markdown",
   "id": "ad849f60",
   "metadata": {},
   "source": [
    "<hr width=50%;>"
   ]
  },
  {
   "cell_type": "markdown",
   "id": "04e5e4dc",
   "metadata": {},
   "source": [
    "< [Table of Contents](#top) | [References](#references) >\n",
    "<a id=\"networkConcepts\"></a>\n",
    "***\n",
    "### Circuit Switching and Packet Switching\n",
    "***"
   ]
  },
  {
   "cell_type": "markdown",
   "id": "bf2b95e2",
   "metadata": {},
   "source": [
    "***\n",
    "## END"
   ]
  },
  {
   "cell_type": "markdown",
   "id": "e0e42d51",
   "metadata": {},
   "source": [
    "< [Table of Contents](#top) >\n",
    "<a id=\"references\"></a>\n",
    "***\n",
    "## References\n",
    "***"
   ]
  },
  {
   "cell_type": "markdown",
   "id": "4e3450af",
   "metadata": {},
   "source": [
    "J. \"Professor\" Messer, \"CompTIA Network+ (N10-007) Course Notes,\" [professormesser.com](https://web.archive.org/web/20220404153917/https://www.professormesser.com/network-plus/n10-007/n10-007-training-course/), March 2019."
   ]
  },
  {
   "cell_type": "markdown",
   "id": "b33c372a",
   "metadata": {},
   "source": [
    "***\n",
    "## END"
   ]
  },
  {
   "cell_type": "markdown",
   "id": "e5961b4d",
   "metadata": {},
   "source": [
    "< [Table of Contents](#top) | [References](#references) >\n",
    "<a id=\"appendix\"></a>\n",
    "***\n",
    "## Appendix\n",
    "***"
   ]
  },
  {
   "cell_type": "markdown",
   "id": "00d82a82",
   "metadata": {},
   "source": [
    "***\n",
    "## END"
   ]
  },
  {
   "cell_type": "code",
   "execution_count": 1,
   "id": "b8ceeb5b",
   "metadata": {},
   "outputs": [
    {
     "data": {
      "text/html": [
       "<style>.container { width:100% !important; }</style>"
      ],
      "text/plain": [
       "<IPython.core.display.HTML object>"
      ]
     },
     "metadata": {},
     "output_type": "display_data"
    }
   ],
   "source": [
    "from IPython.core.display import display,HTML\n",
    "display(HTML(\"<style>.container { width:100% !important; }</style>\"))"
   ]
  },
  {
   "cell_type": "markdown",
   "id": "899c1783",
   "metadata": {},
   "source": [
    "# END JUPYTER NOTEBOOK"
   ]
  }
 ],
 "metadata": {
  "kernelspec": {
   "display_name": "Python 3",
   "language": "python",
   "name": "python3"
  },
  "language_info": {
   "codemirror_mode": {
    "name": "ipython",
    "version": 3
   },
   "file_extension": ".py",
   "mimetype": "text/x-python",
   "name": "python",
   "nbconvert_exporter": "python",
   "pygments_lexer": "ipython3",
   "version": "3.8.8"
  }
 },
 "nbformat": 4,
 "nbformat_minor": 5
}
