{
 "cells": [
  {
   "cell_type": "markdown",
   "id": "616b0550",
   "metadata": {},
   "source": [
    "***\n",
    "< [Home](https://github.com/SeanOhAileasa) | [README](https://github.com/SeanOhAileasa/nkp-network-concepts/blob/main/README.md) >\n",
    "\n",
    "## CompTIA Network+ - Course Material 2022\n",
    "### Topic: ``Network Address Translation``\n",
    "***"
   ]
  },
  {
   "cell_type": "markdown",
   "id": "b82b07fb",
   "metadata": {},
   "source": [
    "Course material for the ``CompTIA Network+`` module of the ``ICT Associate Apprenticeship (Cybersecurity)`` programme."
   ]
  },
  {
   "cell_type": "markdown",
   "id": "e7228f57",
   "metadata": {},
   "source": [
    "<a id=\"top\"></a>\n",
    "***\n",
    "## Table of Contents\n",
    "***"
   ]
  },
  {
   "cell_type": "markdown",
   "id": "aedf6e82",
   "metadata": {},
   "source": [
    "<a id=\"topAdvancedNetworking\"></a>\n",
    "### [Network Address Translation](#networkConcepts)"
   ]
  },
  {
   "cell_type": "markdown",
   "id": "f91cf4fd",
   "metadata": {},
   "source": [
    "- IPv4 supports c. 4.29B Addresses <br/>\n",
    "\t- Over 20B Devices are Connected to the Internet [Estimated] <br/>\n",
    "\t\t- Number is Increasing [Need to be able to Communicate Between All] <br/>\n",
    "\t\t\t- Exhausted IPv4 Address Space [No More Addresses that can be Assigned] <br/>\n",
    "- Private (RFC 1918) IPv4 Addresses <br/>\n",
    "\t- Used inside an Organisation <br/>\n",
    "\t\t- ``!=`` Routable accross Internet <br/>\n",
    "\t\t![Image: IPv4 Private Addresses](https://github.com/SeanOhAileasa/SeanOhAileasa/blob/master/rc/nkp/ipv4-private-addresses.png?raw=true) <br/>\n",
    "\t\t- Network Address Translation (NAT) <br/>\n",
    "\t\t\t- Network [Single Device] <br/>\n",
    "\t\t\t\t- Translate Private into something that is Public [Internet] <br/>\n",
    "\t\t\t\t\t- Router performs NAT [``10.10.20.50`` is Private] <br/>\n",
    "\t\t\t\t\t![Image: Router Performs NAT](https://github.com/SeanOhAileasa/SeanOhAileasa/blob/master/rc/nkp/router-performs-nat.png?raw=true) <br/>\n",
    "\t\t\t\t\t\t- Translates IP Address [Send Across Internet] <br/>\n",
    "\t\t\t\t\t\t\t- Using (Router) External IP Address [``94.1.1.1``] <br/> \n",
    "\t\t\t\t\t\t\t![Image: Router Translates to Public Address](https://github.com/SeanOhAileasa/SeanOhAileasa/blob/master/rc/nkp/router-translates-to-public.png?raw=true) <br/>\n",
    "\t\t\t\t\t- Server Receives Request [Sends Response] <br/>\n",
    "\t\t\t\t\t\t- Destination Address is Source Address <br/>\n",
    "\t\t\t\t\t\t\t- Router Checks Table [Inbound on ``94.1.1.1``] <br/>\n",
    "\t\t\t\t\t\t\t![Image: Router Translates to Public Address](https://github.com/SeanOhAileasa/SeanOhAileasa/blob/master/rc/nkp/route-nat-to-source.png?raw=true) <br/>\n",
    "\t\t\t\t\t\t\t\t- Performs another NAT [``10.10.20.50``] <br/>\n",
    "\t\t\t\t\t\t\t\t![Image: Router Performs another NAT](https://github.com/SeanOhAileasa/SeanOhAileasa/blob/master/rc/nkp/router-performs-nat-source.png?raw=true) <br/>\n",
    "\t\t\t- Network [Multiple Devices] <br/>\n",
    "\t\t\t\t- NAT Overload (Source NAT) / PAT [Port Address Translation] <br/>\n",
    "\t\t\t\t\t- Perform NAT on Source IP Address <br/>\n",
    "\t\t\t\t\t![Image: NAT Overload](https://github.com/SeanOhAileasa/SeanOhAileasa/blob/master/rc/nkp/nat-overload.png?raw=true) <br/>\n",
    "\t\t\t\t\t\t- Table Keeps Track of Translations <br/>\n",
    "\t\t\t\t\t\t![Image: Route Table](https://github.com/SeanOhAileasa/SeanOhAileasa/blob/master/rc/nkp/router-nat-public-address.png?raw=true) <br/>\n",
    "\t\t\t- Other Type of NAT Found on Router <br/>\n",
    "\t\t\t\t- Port Forwarding <br/>\n",
    "\t\t\t\t\t- Outside [Access Inside Devices] <br/>\n",
    "\t\t\t\t\t\t- 24x7 Access to a Service Hosted Internally <br/>\n",
    "\t\t\t\t\t\t\t- Hosting [Devices have Private Addresses] <br/>\n",
    "\t\t\t\t\t\t\t\t- Web Server <br/>\n",
    "\t\t\t\t\t\t\t\t- Gaming Server <br/>\n",
    "\t\t\t\t\t\t\t\t- Security System etc <br/> \n",
    "\t\t\t\t\t\t- External IP/Port Number Associate to an Internal IP/Port <br/>\n",
    "\t\t\t\t\t\t\t- Does Not have to be the Same Port Number <br/>\n",
    "\t\t\t\t\t\t\t\t- Communicate to Router from Outside [External IP Address] <br/>\n",
    "\t\t\t\t\t\t\t\t\t- Referred as Destination NAT or Static NAT <br/>\n",
    "\t\t\t\t\t\t\t\t\t- Destination Address Translated from Public IP to Private IP <br/>\n",
    "\t\t\t\t\t\t\t\t\t![Image: Port Forwarding](https://github.com/SeanOhAileasa/SeanOhAileasa/blob/master/rc/nkp/port-forwarding.png?raw=true) <br/>\n",
    "\t\t\t\t\t\t\t\t\t- Given NAT is Static ``!=`` Expire or Timeout [Available 24/7] <br/>\n",
    "\t\t\t\t\t- Inbound Communication <br/>\n",
    "\t\t\t\t\t\t- Internet Devices Communicate Internal Devices [Private IP] <br/>\n",
    "\t\t\t\t\t\t\t- Router performs NAT <br/>\n",
    "\t\t\t\t\t\t\t\t- Configured Inbound External Address [``66.20.1.14``] <br/>\n",
    "\t\t\t\t\t\t\t\t\t- Translate to Private Address [``192.168.3.22``] <br/>\n",
    "\t\t\t\t\t\t\t\t\t![Image: Port Forwarding Translation](https://github.com/SeanOhAileasa/SeanOhAileasa/blob/master/rc/nkp/port-forwarding-translation.png?raw=true) <br/> "
   ]
  },
  {
   "cell_type": "markdown",
   "id": "ad849f60",
   "metadata": {},
   "source": [
    "<hr width=50%;>"
   ]
  },
  {
   "cell_type": "markdown",
   "id": "04e5e4dc",
   "metadata": {},
   "source": [
    "< [Table of Contents](#top) | [References](#references) >\n",
    "<a id=\"networkConcepts\"></a>\n",
    "***\n",
    "### Network Address Translation\n",
    "***"
   ]
  },
  {
   "cell_type": "markdown",
   "id": "bf2b95e2",
   "metadata": {},
   "source": [
    "***\n",
    "## END"
   ]
  },
  {
   "cell_type": "markdown",
   "id": "e0e42d51",
   "metadata": {},
   "source": [
    "< [Table of Contents](#top) >\n",
    "<a id=\"references\"></a>\n",
    "***\n",
    "## References\n",
    "***"
   ]
  },
  {
   "cell_type": "markdown",
   "id": "f15853a7",
   "metadata": {},
   "source": [
    "J. \"Professor\" Messer, \"CompTIA Network+ (N10-007) Course Notes,\" [professormesser.com](https://web.archive.org/web/20220404153917/https://www.professormesser.com/network-plus/n10-007/n10-007-training-course/), March 2019."
   ]
  },
  {
   "cell_type": "markdown",
   "id": "b33c372a",
   "metadata": {},
   "source": [
    "***\n",
    "## END"
   ]
  },
  {
   "cell_type": "markdown",
   "id": "e5961b4d",
   "metadata": {},
   "source": [
    "< [Table of Contents](#top) | [References](#references) >\n",
    "<a id=\"appendix\"></a>\n",
    "***\n",
    "## Appendix\n",
    "***"
   ]
  },
  {
   "cell_type": "markdown",
   "id": "00d82a82",
   "metadata": {},
   "source": [
    "***\n",
    "## END"
   ]
  },
  {
   "cell_type": "code",
   "execution_count": 1,
   "id": "b8ceeb5b",
   "metadata": {},
   "outputs": [
    {
     "data": {
      "text/html": [
       "<style>.container { width:100% !important; }</style>"
      ],
      "text/plain": [
       "<IPython.core.display.HTML object>"
      ]
     },
     "metadata": {},
     "output_type": "display_data"
    }
   ],
   "source": [
    "from IPython.core.display import display,HTML\n",
    "display(HTML(\"<style>.container { width:100% !important; }</style>\"))"
   ]
  },
  {
   "cell_type": "markdown",
   "id": "899c1783",
   "metadata": {},
   "source": [
    "# END JUPYTER NOTEBOOK"
   ]
  }
 ],
 "metadata": {
  "kernelspec": {
   "display_name": "Python 3",
   "language": "python",
   "name": "python3"
  },
  "language_info": {
   "codemirror_mode": {
    "name": "ipython",
    "version": 3
   },
   "file_extension": ".py",
   "mimetype": "text/x-python",
   "name": "python",
   "nbconvert_exporter": "python",
   "pygments_lexer": "ipython3",
   "version": "3.8.8"
  }
 },
 "nbformat": 4,
 "nbformat_minor": 5
}
