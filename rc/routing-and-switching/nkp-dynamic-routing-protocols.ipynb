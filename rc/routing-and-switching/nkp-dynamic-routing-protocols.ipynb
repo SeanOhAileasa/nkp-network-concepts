{
 "cells": [
  {
   "cell_type": "markdown",
   "id": "616b0550",
   "metadata": {},
   "source": [
    "***\n",
    "< [Home](https://github.com/SeanOhAileasa) | [README](https://github.com/SeanOhAileasa/nkp-network-concepts/blob/main/README.md) >\n",
    "\n",
    "## CompTIA Network+ - Course Material 2022\n",
    "### Topic: ``Dynamic Routing Protocols``\n",
    "***"
   ]
  },
  {
   "cell_type": "markdown",
   "id": "b82b07fb",
   "metadata": {},
   "source": [
    "Course material for the ``CompTIA Network+`` module of the ``ICT Associate Apprenticeship (Cybersecurity)`` programme."
   ]
  },
  {
   "cell_type": "markdown",
   "id": "e7228f57",
   "metadata": {},
   "source": [
    "<a id=\"top\"></a>\n",
    "***\n",
    "## Table of Contents\n",
    "***"
   ]
  },
  {
   "cell_type": "markdown",
   "id": "aedf6e82",
   "metadata": {},
   "source": [
    "<a id=\"topAdvancedNetworking\"></a>\n",
    "### [Dynamic Routing Protocols](#networkConcepts)"
   ]
  },
  {
   "cell_type": "markdown",
   "id": "20bbc1bb",
   "metadata": {},
   "source": [
    "- Routing Network [Use a Dynamic Routing Protocol] <br/>\n",
    "\t- Communicates between Routers [Know All Available Routes] <br/>\n",
    "\t\t- Provide Subnet Information to the Routers <br/>\n",
    "- Determine Best Path (based on Gathered Information) [Forward Traffic] <br/>\n",
    "\t- Outage (Link Down) Reconverge [Build new Routes] <br/>\n",
    "\t\t- Update Routes <br/>\n",
    "\t\t\t- Every Dynamic Routing Protocol has different Convergence Process <br/>\n",
    "- Router Determines Traffic Path <br/>\n",
    "\t- List Best Routes to Worst Routes <br/>\n",
    "\t\t- Distance [Hops] <br/>\n",
    "\t\t\t- Algorithm [Formula] <br/>\n",
    "\t\t\t\t- Distance-ventor Routing Protocols <br/>\n",
    "\t\t\t\t\t- ``#`` of Hops <br/>\n",
    "\t\t\t\t\t\t- Vector [Distance] <br/>\n",
    "\t\t\t\t\t- Usually Automatic <br/>\n",
    "\t\t\t\t\t\t- Very Little Configuration <br/>\n",
    "\t\t\t\t\t- Good for Smaller Networks <br/>\n",
    "\t\t\t\t\t\t- ``!=`` Scale to very Larget Networks <br/>\n",
    "\t\t\t\t\t- Standard <br/>\n",
    "\t\t\t\t\t\t- Routing Information Protocol (RIP) <br/>\n",
    "\t\t\t\t\t\t- Routing Information Protocol Version 2 (RIPv2) <br/>\n",
    "\t\t\t\t\t\t- Enhanced Interior Gateway Routing Protocol (EIGRP) [Cisco] <br/>\n",
    "\t\t\t\t\t- ``!=`` Speed <br/>\n",
    "\t\t\t\t\t\t- Lowest Hops to Destination [Sam: ``R2`` ``R1``] <br/> \n",
    "\t\t\t\t\t\t![Image: Distance-vector Routing](https://github.com/SeanOhAileasa/SeanOhAileasa/blob/master/rc/nkp/distance-vector-routing-protocol.png?raw=true) <br/>\n",
    "\t\t- Link State [Quality] <br/>\n",
    "\t\t\t- Algorithm [Formula] <br/>\n",
    "\t\t\t\t- Link-state Routing Protocols <br/>\n",
    "\t\t\t\t\t- Connection Quality <br/>\n",
    "\t\t\t\t\t\t- Information Passed (Routers) related to current Connectivity <br/>\n",
    "\t\t\t\t\t\t\t- Up [Can Get There] <br/>\n",
    "\t\t\t\t\t\t\t- Down [Cannot Get There] <br/>\n",
    "\t\t\t\t\t- Considers Speed of Link <br/>\n",
    "\t\t\t\t\t\t- Faster Link gets Higher Priorty <br/>\n",
    "\t\t\t\t\t- Very Scalable <br/>\n",
    "\t\t\t\t\t\t- Used most often in Large Networks <br/>\n",
    "\t\t\t\t\t- Standard <br/>\n",
    "\t\t\t\t\t\t- Open Shortest Path First (OSPF) <br/>\n",
    "\t\t\t\t\t- ``!=`` Distance <br/>\n",
    "\t\t\t\t\t\t- Fastest Connection to Destination [Sam: ``R2`` ``R3`` ``R1``] <br/>\n",
    "\t\t\t\t\t\t![Image: Link-state Routing](https://github.com/SeanOhAileasa/SeanOhAileasa/blob/master/rc/nkp/link-state-routing-protocol.png?raw=true) <br/>\n",
    "\t\t- Hybrid Routing Protocols <br/>\n",
    "\t\t\t- Combined Distance-vector and Link-state <br/>\n",
    "\t\t\t\t- Border Gateway Protocol (BGP) <br/>\n",
    "\t\t\t\t\t- Route based on Paths or Network Policies or Configured Rule-sets <br/>\n",
    "- Environment [Dynamic Routing Protocol to Use] <br/>\n",
    "\t- Convergence [Rebuilding Routes (Outage or Link Down)] <br/>\n",
    "\t\t- Time <br/>\n",
    "\t- Standard Protocols <br/>\n",
    "\t\t- Routing Information Protocol (RIP) [Distance-vector] <br/>\n",
    "\t\t- Open Shortest Path First (OSPF) [Link-state] <br/>\n",
    "\t- Proprietary Protocols <br/>\n",
    "\t\t- Enhanced Interior Gateway Routing Protocol (EIGRP) [Cisco] <br/>"
   ]
  },
  {
   "cell_type": "markdown",
   "id": "ad849f60",
   "metadata": {},
   "source": [
    "<hr width=50%;>"
   ]
  },
  {
   "cell_type": "markdown",
   "id": "04e5e4dc",
   "metadata": {},
   "source": [
    "< [Table of Contents](#top) | [References](#references) >\n",
    "<a id=\"networkConcepts\"></a>\n",
    "***\n",
    "### Dynamic Routing Protocols\n",
    "***"
   ]
  },
  {
   "cell_type": "markdown",
   "id": "bf2b95e2",
   "metadata": {},
   "source": [
    "***\n",
    "## END"
   ]
  },
  {
   "cell_type": "markdown",
   "id": "e0e42d51",
   "metadata": {},
   "source": [
    "< [Table of Contents](#top) >\n",
    "<a id=\"references\"></a>\n",
    "***\n",
    "## References\n",
    "***"
   ]
  },
  {
   "cell_type": "markdown",
   "id": "55b6e799",
   "metadata": {},
   "source": [
    "J. \"Professor\" Messer, \"CompTIA Network+ (N10-007) Course Notes,\" [professormesser.com](https://web.archive.org/web/20220404153917/https://www.professormesser.com/network-plus/n10-007/n10-007-training-course/), March 2019."
   ]
  },
  {
   "cell_type": "markdown",
   "id": "b33c372a",
   "metadata": {},
   "source": [
    "***\n",
    "## END"
   ]
  },
  {
   "cell_type": "markdown",
   "id": "e5961b4d",
   "metadata": {},
   "source": [
    "< [Table of Contents](#top) | [References](#references) >\n",
    "<a id=\"appendix\"></a>\n",
    "***\n",
    "## Appendix\n",
    "***"
   ]
  },
  {
   "cell_type": "markdown",
   "id": "00d82a82",
   "metadata": {},
   "source": [
    "***\n",
    "## END"
   ]
  },
  {
   "cell_type": "code",
   "execution_count": 1,
   "id": "b8ceeb5b",
   "metadata": {},
   "outputs": [
    {
     "data": {
      "text/html": [
       "<style>.container { width:100% !important; }</style>"
      ],
      "text/plain": [
       "<IPython.core.display.HTML object>"
      ]
     },
     "metadata": {},
     "output_type": "display_data"
    }
   ],
   "source": [
    "from IPython.core.display import display,HTML\n",
    "display(HTML(\"<style>.container { width:100% !important; }</style>\"))"
   ]
  },
  {
   "cell_type": "markdown",
   "id": "899c1783",
   "metadata": {},
   "source": [
    "# END JUPYTER NOTEBOOK"
   ]
  }
 ],
 "metadata": {
  "kernelspec": {
   "display_name": "Python 3",
   "language": "python",
   "name": "python3"
  },
  "language_info": {
   "codemirror_mode": {
    "name": "ipython",
    "version": 3
   },
   "file_extension": ".py",
   "mimetype": "text/x-python",
   "name": "python",
   "nbconvert_exporter": "python",
   "pygments_lexer": "ipython3",
   "version": "3.8.8"
  }
 },
 "nbformat": 4,
 "nbformat_minor": 5
}
